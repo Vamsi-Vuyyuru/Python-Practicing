{
  "nbformat": 4,
  "nbformat_minor": 0,
  "metadata": {
    "colab": {
      "name": "Python Practice Exercises.ipynb",
      "provenance": [],
      "collapsed_sections": [],
      "authorship_tag": "ABX9TyPP/SLFuZW145meL/OYxkjU",
      "include_colab_link": true
    },
    "kernelspec": {
      "name": "python3",
      "display_name": "Python 3"
    }
  },
  "cells": [
    {
      "cell_type": "markdown",
      "metadata": {
        "id": "view-in-github",
        "colab_type": "text"
      },
      "source": [
        "<a href=\"https://colab.research.google.com/github/Vamsi-Vuyyuru/Python-Practicing/blob/master/Python_Practice_Exercises.ipynb\" target=\"_parent\"><img src=\"https://colab.research.google.com/assets/colab-badge.svg\" alt=\"Open In Colab\"/></a>"
      ]
    },
    {
      "cell_type": "code",
      "metadata": {
        "id": "IBJzMaKD8Yud",
        "colab": {
          "base_uri": "https://localhost:8080/",
          "height": 130
        },
        "outputId": "b3a42aa6-7fe4-4fff-c5b9-523d912db7b7"
      },
      "source": [
        "Source: https://www.w3resource.com/python-exercises/"
      ],
      "execution_count": null,
      "outputs": [
        {
          "output_type": "error",
          "ename": "SyntaxError",
          "evalue": "ignored",
          "traceback": [
            "\u001b[0;36m  File \u001b[0;32m\"<ipython-input-1-684f2b750af7>\"\u001b[0;36m, line \u001b[0;32m1\u001b[0m\n\u001b[0;31m    Source: https://www.w3resource.com/python-exercises/\u001b[0m\n\u001b[0m                 ^\u001b[0m\n\u001b[0;31mSyntaxError\u001b[0m\u001b[0;31m:\u001b[0m invalid syntax\n"
          ]
        }
      ]
    },
    {
      "cell_type": "markdown",
      "metadata": {
        "id": "Vp-Cc8F1Z1lf"
      },
      "source": [
        "# Basic Python Practice Exercises\n",
        "\n",
        "\n"
      ]
    },
    {
      "cell_type": "markdown",
      "metadata": {
        "id": "KlsM8wdKXZ1J"
      },
      "source": [
        "## 1. Write a Python program to print the following string in a specific format.\n",
        "Sample String : \"Twinkle, twinkle, little star, How I wonder what you are! Up above the world so high, Like a diamond in the sky. Twinkle, twinkle, little star, How I wonder what you are\" \n",
        "\n",
        "Output :\n",
        "Twinkle, twinkle, little star,\n",
        "\tHow I wonder what you are! \n",
        "\t\tUp above the world so high,   \t\t\n",
        "\t\tLike a diamond in the sky. \n",
        "Twinkle, twinkle, little star, \n",
        "\tHow I wonder what you are\n"
      ]
    },
    {
      "cell_type": "code",
      "metadata": {
        "id": "ZdEe_M6lXeXf",
        "colab": {
          "base_uri": "https://localhost:8080/",
          "height": 121
        },
        "outputId": "3ebde93e-7b9f-4df7-ec6a-7e406497b6a9"
      },
      "source": [
        "print(\"Twinkle, twinkle, little star,\" \"\\n\\tHow I wonder what you are!,\" \"\\n\\t\\tUp above the world so high,\" \"\\n\\t\\tLike a diamond in the sky.\" \"\\nTwinkle, twinkle, little star\" \"\\n\\tHow I wonder what you are\")"
      ],
      "execution_count": null,
      "outputs": [
        {
          "output_type": "stream",
          "text": [
            "Twinkle, twinkle, little star,\n",
            "\tHow I wonder what you are!,\n",
            "\t\tUp above the world so high,\n",
            "\t\tLike a diamond in the sky.\n",
            "Twinkle, twinkle, little star\n",
            "\tHow I wonder what you are\n"
          ],
          "name": "stdout"
        }
      ]
    },
    {
      "cell_type": "markdown",
      "metadata": {
        "id": "4rIqcx0WZgs6"
      },
      "source": [
        "## 2. Write a Python program to get the Python version you are using."
      ]
    },
    {
      "cell_type": "markdown",
      "metadata": {
        "id": "WKO2D_zQaswf"
      },
      "source": [
        "A string containing the version number of the Python interpreter plus additional information on the build number and compiler used. This string is displayed when the interactive interpreter is started."
      ]
    },
    {
      "cell_type": "code",
      "metadata": {
        "id": "BMnDnzZQZiN_",
        "colab": {
          "base_uri": "https://localhost:8080/",
          "height": 87
        },
        "outputId": "f88bb121-7a70-426d-e62a-b1ae52802814"
      },
      "source": [
        "import sys\n",
        "print (\"Python Version: \", sys.version)\n",
        "print (\"Python Version Information:\\n\", sys.version_info)"
      ],
      "execution_count": null,
      "outputs": [
        {
          "output_type": "stream",
          "text": [
            "Python Version:  3.6.9 (default, Nov  7 2019, 10:44:02) \n",
            "[GCC 8.3.0]\n",
            "Python Version Information:\n",
            " sys.version_info(major=3, minor=6, micro=9, releaselevel='final', serial=0)\n"
          ],
          "name": "stdout"
        }
      ]
    },
    {
      "cell_type": "markdown",
      "metadata": {
        "id": "X2iRBgHhaj-z"
      },
      "source": [
        "## 3. Write a Python program to display the current date and time.\n",
        "Sample Output :\n",
        "Current date and time :\n",
        "2014-07-05 14:34:14"
      ]
    },
    {
      "cell_type": "code",
      "metadata": {
        "id": "cfRcMLxcbc15",
        "colab": {
          "base_uri": "https://localhost:8080/",
          "height": 52
        },
        "outputId": "54dd5dc9-f4d5-456a-ce0f-dcb1abc79983"
      },
      "source": [
        "import datetime\n",
        "dt=datetime.datetime.now()\n",
        "print (\"Default Current Date and time:\", dt)\n",
        "print (\"Formatted Date and time:\", (dt.strftime(\"%d-%m-%y %H:%M:%S\")))\n"
      ],
      "execution_count": null,
      "outputs": [
        {
          "output_type": "stream",
          "text": [
            "Default Current Date and time: 2020-03-22 13:44:51.225475\n",
            "Formatted Date and time: 22-03-20 13:44:51\n"
          ],
          "name": "stdout"
        }
      ]
    },
    {
      "cell_type": "markdown",
      "metadata": {
        "id": "RVgo7PKBfWbl"
      },
      "source": [
        "## 4. Write a Python program which accepts the radius of a circle from the user and compute the area."
      ]
    },
    {
      "cell_type": "code",
      "metadata": {
        "id": "d1UvikKabex2",
        "colab": {
          "base_uri": "https://localhost:8080/",
          "height": 52
        },
        "outputId": "e912a3ab-7c30-4585-a5be-92a838a1fbbf"
      },
      "source": [
        "from math import pi\n",
        "radius=float(input(\"Please input radius of the circle \"))\n",
        "print(\"Area of the Circle with radius \"+ str(radius) +\" is:\", str(pi*(radius**2)))"
      ],
      "execution_count": null,
      "outputs": [
        {
          "output_type": "stream",
          "text": [
            "Please input radius of the circle 2.3\n",
            "Area of the Circle with radius 2.3 is: 16.619025137490002\n"
          ],
          "name": "stdout"
        }
      ]
    },
    {
      "cell_type": "markdown",
      "metadata": {
        "id": "Oh6K48wSbfjc"
      },
      "source": [
        "### 5. Write a Python program which accepts the user's first and last name and print them in reverse order with a space between them."
      ]
    },
    {
      "cell_type": "code",
      "metadata": {
        "id": "C8ufbYSYbf2-",
        "colab": {
          "base_uri": "https://localhost:8080/",
          "height": 69
        },
        "outputId": "fb497071-2585-43f9-9811-29b976ceb841"
      },
      "source": [
        "FN=input(\"Enter your First Name: \")\n",
        "LN=input(\"Enter your Last Name: \")\n",
        "print(\"Welcome\", (LN+\" \"+FN))"
      ],
      "execution_count": null,
      "outputs": [
        {
          "output_type": "stream",
          "text": [
            "Enter your First Name:Syam\n",
            "Enter your Last Name:Vuyyuru\n",
            "Welcome Vuyyuru Syam\n"
          ],
          "name": "stdout"
        }
      ]
    },
    {
      "cell_type": "markdown",
      "metadata": {
        "id": "_2WbmI_EbgDi"
      },
      "source": [
        "###6. Write a Python program which accepts a sequence of comma-separated numbers from user and generate a list and a tuple with those numbers. \n",
        "Sample data : 3, 5, 7, 23\n",
        "Output :\n",
        "List : ['3', ' 5', ' 7', ' 23']\n",
        "Tuple : ('3', ' 5', ' 7', ' 23')"
      ]
    },
    {
      "cell_type": "code",
      "metadata": {
        "id": "s67j8kVgbgQP",
        "colab": {
          "base_uri": "https://localhost:8080/",
          "height": 68
        },
        "outputId": "e74f3b1b-dadb-49bf-b75c-5107c83eb40c"
      },
      "source": [
        "val = input(\"Enter some comma seprated numbers : \")\n",
        "vlist = val.split(\",\")\n",
        "vtuple = tuple(vlist)\n",
        "print('List : ',vlist)\n",
        "print('Tuple : ',vtuple)\n"
      ],
      "execution_count": null,
      "outputs": [
        {
          "output_type": "stream",
          "text": [
            "Enter some comma seprated numbers : 5,8,4,3\n",
            "List :  ['5', '8', '4', '3']\n",
            "Tuple :  ('5', '8', '4', '3')\n"
          ],
          "name": "stdout"
        }
      ]
    },
    {
      "cell_type": "markdown",
      "metadata": {
        "id": "Md2gdGfJbgbg"
      },
      "source": [
        "###7. Write a Python program to accept a filename from the user and print the extension of that. \n",
        "Sample filename : abc.java\n",
        "Output : java"
      ]
    },
    {
      "cell_type": "code",
      "metadata": {
        "id": "YjMjsfRPbgnR",
        "colab": {
          "base_uri": "https://localhost:8080/",
          "height": 51
        },
        "outputId": "4aabfdab-bf01-49a8-ca92-cd0b609d5ddf"
      },
      "source": [
        "fn=input(\"Enter your file name : \")\n",
        "fext=fn.split(\".\")\n",
        "print(\"The extension of the file is : \", fext[1])"
      ],
      "execution_count": null,
      "outputs": [
        {
          "output_type": "stream",
          "text": [
            "Enter your file name : PyPract.ipynb\n",
            "The extension of the file is :  ipynb\n"
          ],
          "name": "stdout"
        }
      ]
    },
    {
      "cell_type": "markdown",
      "metadata": {
        "id": "K0aC2BySsZT8"
      },
      "source": [
        "###8. Write a Python program to display the first and last colors from the following list.\n",
        "color_list = [\"Red\",\"Green\",\"White\" ,\"Black\"]"
      ]
    },
    {
      "cell_type": "code",
      "metadata": {
        "id": "D8__QvGEbhBe",
        "colab": {
          "base_uri": "https://localhost:8080/",
          "height": 34
        },
        "outputId": "310bd1b6-9feb-4b15-f9e4-ceea2116d798"
      },
      "source": [
        "color_list = [\"Red\",\"Green\",\"White\" ,\"Black\"]\n",
        "print(\"The first and last colors in the given list are : \" +(color_list[0]+\" and \"+color_list[-1])+ \" respectively\")"
      ],
      "execution_count": null,
      "outputs": [
        {
          "output_type": "stream",
          "text": [
            "The first and last colors in the given list are : Red and Black respectively\n"
          ],
          "name": "stdout"
        }
      ]
    },
    {
      "cell_type": "markdown",
      "metadata": {
        "id": "-4uNWrviuFoV"
      },
      "source": [
        "###9. Write a Python program to display the examination schedule. (extract the date from exam_st_date).\n",
        "exam_st_date = (11, 12, 2014)\n",
        "Sample Output : The examination will start from : 11 / 12 / 2014"
      ]
    },
    {
      "cell_type": "code",
      "metadata": {
        "id": "XwCB62N9bhiw",
        "colab": {
          "base_uri": "https://localhost:8080/",
          "height": 34
        },
        "outputId": "3fb55d78-1c0e-457e-fc78-f2256e45b7f5"
      },
      "source": [
        "exam_st_date = (11, 12, 2014)\n",
        "print(\"The examinatin wil start from: %i / %i / %i\"%exam_st_date)"
      ],
      "execution_count": null,
      "outputs": [
        {
          "output_type": "stream",
          "text": [
            "The examinatin wil start from: 11 / 12 / 2014\n"
          ],
          "name": "stdout"
        }
      ]
    },
    {
      "cell_type": "markdown",
      "metadata": {
        "id": "B9Qn3YyBuER9"
      },
      "source": [
        "###10. Write a Python program that accepts an integer (n) and computes the value of n+nn+nnn. \n",
        "Sample value of n is 5\n",
        "Expected Result : 615"
      ]
    },
    {
      "cell_type": "code",
      "metadata": {
        "id": "bL6eZ_n_uHC-",
        "colab": {
          "base_uri": "https://localhost:8080/",
          "height": 51
        },
        "outputId": "0a4d48f2-ad93-4fdf-89ff-47a7b0500164"
      },
      "source": [
        "val=int(input(\"Enter the value : \"))\n",
        "c1=int(\"%s\" %val)\n",
        "c2=int(\"%s%s\"%(val,val))\n",
        "c3=int(\"%s%s%s\"%(val,val,val))\n",
        "print(\"The value after computing as n+nn+nnn is \", (c1+c2+c3))"
      ],
      "execution_count": null,
      "outputs": [
        {
          "output_type": "stream",
          "text": [
            "Enter the value : 3\n",
            "The value after computing as n+nn+nnn is  369\n"
          ],
          "name": "stdout"
        }
      ]
    },
    {
      "cell_type": "markdown",
      "metadata": {
        "id": "IUe0-PcyjTrz"
      },
      "source": [
        "###11. Write a Python program to print the documents (syntax, description etc.) of Python built-in function(s).\n",
        "Sample function : abs()\n",
        "Expected Result :\n",
        "abs(number) -> number\n",
        "Return the absolute value of the argument."
      ]
    },
    {
      "cell_type": "code",
      "metadata": {
        "id": "D5t1qTpqbh_R",
        "colab": {
          "base_uri": "https://localhost:8080/",
          "height": 153
        },
        "outputId": "045babdc-dfcb-4471-8fe0-5ea624f7c2c2"
      },
      "source": [
        "print(print.__doc__)"
      ],
      "execution_count": null,
      "outputs": [
        {
          "output_type": "stream",
          "text": [
            "print(value, ..., sep=' ', end='\\n', file=sys.stdout, flush=False)\n",
            "\n",
            "Prints the values to a stream, or to sys.stdout by default.\n",
            "Optional keyword arguments:\n",
            "file:  a file-like object (stream); defaults to the current sys.stdout.\n",
            "sep:   string inserted between values, default a space.\n",
            "end:   string appended after the last value, default a newline.\n",
            "flush: whether to forcibly flush the stream.\n"
          ],
          "name": "stdout"
        }
      ]
    },
    {
      "cell_type": "markdown",
      "metadata": {
        "id": "YylR-7SNoLUc"
      },
      "source": [
        "###12. Write a Python program to print the calendar of a given month and year.\n",
        "Note : Use 'calendar' module."
      ]
    },
    {
      "cell_type": "code",
      "metadata": {
        "id": "Sg0apHCvoCBl",
        "colab": {
          "base_uri": "https://localhost:8080/",
          "height": 187
        },
        "outputId": "715f92ac-b7a7-4dc8-f4d8-7f41f9847b8d"
      },
      "source": [
        "import calendar\n",
        "y=int(input(\"Year : \"))\n",
        "m=int(input(\"Month : \"))\n",
        "print(calendar.month(y,m))"
      ],
      "execution_count": null,
      "outputs": [
        {
          "output_type": "stream",
          "text": [
            "Year : 2020\n",
            "Month : 04\n",
            "     April 2020\n",
            "Mo Tu We Th Fr Sa Su\n",
            "       1  2  3  4  5\n",
            " 6  7  8  9 10 11 12\n",
            "13 14 15 16 17 18 19\n",
            "20 21 22 23 24 25 26\n",
            "27 28 29 30\n",
            "\n"
          ],
          "name": "stdout"
        }
      ]
    },
    {
      "cell_type": "markdown",
      "metadata": {
        "id": "5nvq1xwboCcw"
      },
      "source": [
        "###13. Write a Python program to print the following here document. \n",
        "Sample string :\n",
        "a string that you \"don't\" have to escape\n",
        "This\n",
        "is a ....... multi-line\n",
        "heredoc string --------> example"
      ]
    },
    {
      "cell_type": "code",
      "metadata": {
        "id": "5emcONI8oCtx",
        "colab": {
          "base_uri": "https://localhost:8080/",
          "height": 102
        },
        "outputId": "e2ea9fe4-397a-40c2-861b-c5396ccfd282"
      },
      "source": [
        "print(\"\"\"\n",
        "a string that you \"don't\" have to escape \n",
        "This \n",
        "is a ....... multi-line \n",
        "heredoc string --------> example\"\"\")"
      ],
      "execution_count": null,
      "outputs": [
        {
          "output_type": "stream",
          "text": [
            "\n",
            "a string that you \"don't\" have to escape \n",
            "This \n",
            "is a ....... multi-line \n",
            "heredoc string --------> example\n"
          ],
          "name": "stdout"
        }
      ]
    },
    {
      "cell_type": "markdown",
      "metadata": {
        "id": "OLDudXHcoC7x"
      },
      "source": [
        "###14. Write a Python program to calculate number of days between two dates.\n",
        "Sample dates : (2014, 7, 2), (2014, 7, 11)\n",
        "Expected output : 9 days"
      ]
    },
    {
      "cell_type": "code",
      "metadata": {
        "id": "uNcpavDAoDLL",
        "colab": {
          "base_uri": "https://localhost:8080/",
          "height": 34
        },
        "outputId": "f5fc8a08-3013-42bc-f2f7-b88291a2e8db"
      },
      "source": [
        "from datetime import date\n",
        "fd = date(2020,4,15)\n",
        "ld = date(2020,8,17)\n",
        "diff= ld - fd\n",
        "print(\"No. of days inbetween are : \",diff.days)"
      ],
      "execution_count": null,
      "outputs": [
        {
          "output_type": "stream",
          "text": [
            "No. of days inbetween are :  124\n"
          ],
          "name": "stdout"
        }
      ]
    },
    {
      "cell_type": "markdown",
      "metadata": {
        "id": "DfVXUQvcoDZE"
      },
      "source": [
        "###15. Write a Python program to get the volume of a sphere with radius 6."
      ]
    },
    {
      "cell_type": "code",
      "metadata": {
        "id": "tdRcVbz_oDou",
        "colab": {
          "base_uri": "https://localhost:8080/",
          "height": 51
        },
        "outputId": "42bfb334-9ddf-4b8e-a0cf-6878a8cd5e9f"
      },
      "source": [
        "from math import pi\n",
        "r=float(input(\"Please enter the radius of a sphere : \"))\n",
        "print(\"Volume of a sphere with \" + str(r) +\" is \", str(4/3 *pi* r**3))"
      ],
      "execution_count": null,
      "outputs": [
        {
          "output_type": "stream",
          "text": [
            "Please enter the radius of a sphere : 5.4\n",
            "Volume of a sphere with 5.4 is  659.5836608064843\n"
          ],
          "name": "stdout"
        }
      ]
    },
    {
      "cell_type": "markdown",
      "metadata": {
        "id": "Ju8VH1ctoD2T"
      },
      "source": [
        "###16. Write a Python program to get the difference between a given number and 17, if the number is greater than 17 return double the absolute difference."
      ]
    },
    {
      "cell_type": "code",
      "metadata": {
        "id": "W4_mGXVioEFO",
        "colab": {
          "base_uri": "https://localhost:8080/",
          "height": 51
        },
        "outputId": "f57a630b-0a7d-423a-f42b-0b5111207791"
      },
      "source": [
        "n=int(input(\"Enter the number to be checked : \"))\n",
        "\n",
        "def Difference(n):\n",
        "    if n<=17:\n",
        "      return(17-n) \n",
        "    else:\n",
        "      return(n-17)*2\n",
        "\n",
        "print(\"Absolute difference after computing is : \", Difference(n))\n"
      ],
      "execution_count": null,
      "outputs": [
        {
          "output_type": "stream",
          "text": [
            "Enter the number to be checked : 28\n",
            "Absolute difference after computing is :  22\n"
          ],
          "name": "stdout"
        }
      ]
    },
    {
      "cell_type": "markdown",
      "metadata": {
        "id": "br9MVrVdoER5"
      },
      "source": [
        "###17. Write a Python program to test whether the difference of a number with 1000 or 2000 is within 100 or not."
      ]
    },
    {
      "cell_type": "code",
      "metadata": {
        "id": "nyNBadc-oEfj",
        "colab": {
          "base_uri": "https://localhost:8080/",
          "height": 85
        },
        "outputId": "c3822714-8174-4e5b-97ea-00bd9687d458"
      },
      "source": [
        "def neartothousand(n):\n",
        "      return ((abs(1000 - n) <= 100) or (abs(2000 - n) <= 100))\n",
        "print(neartothousand(1000))\n",
        "print(neartothousand(900))\n",
        "print(neartothousand(800))   \n",
        "print(neartothousand(2200))"
      ],
      "execution_count": null,
      "outputs": [
        {
          "output_type": "stream",
          "text": [
            "True\n",
            "True\n",
            "False\n",
            "False\n"
          ],
          "name": "stdout"
        }
      ]
    },
    {
      "cell_type": "markdown",
      "metadata": {
        "id": "2H3zH6lYoEwe"
      },
      "source": [
        "###18. Write a Python program to calculate the sum of three given numbers, if the values are equal then return three times of their sum."
      ]
    },
    {
      "cell_type": "code",
      "metadata": {
        "id": "fHGkYzoqoE9P",
        "colab": {
          "base_uri": "https://localhost:8080/",
          "height": 85
        },
        "outputId": "4c66f94b-cf34-4c01-fa39-31cfe79ab655"
      },
      "source": [
        "n1=float(input(\"Enter the first number : \"))\n",
        "n2=float(input(\"Enter the second number : \"))\n",
        "n3=float(input(\"Enter the third number : \"))\n",
        "n=n1+n2+n3\n",
        "def sumof3():\n",
        "  if(n1==n2==n3):\n",
        "    return(n*3)\n",
        "  else:\n",
        "    return(n)\n",
        "print(\"The computed number is : \", sumof3())"
      ],
      "execution_count": null,
      "outputs": [
        {
          "output_type": "stream",
          "text": [
            "Enter the first number : 1\n",
            "Enter the second number : 1\n",
            "Enter the third number : 1\n",
            "The computed number is :  9.0\n"
          ],
          "name": "stdout"
        }
      ]
    },
    {
      "cell_type": "markdown",
      "metadata": {
        "id": "_XKdbwTfoFKJ"
      },
      "source": [
        "###19. Write a Python program to get a new string from a given string where \"Is\" has been added to the front. If the given string already begins with \"Is\" then return the string unchanged. "
      ]
    },
    {
      "cell_type": "code",
      "metadata": {
        "id": "fRXU1kLYoFW4",
        "colab": {
          "base_uri": "https://localhost:8080/",
          "height": 51
        },
        "outputId": "dd7f7e2f-2322-4f02-dd8e-f941ac964bb8"
      },
      "source": [
        "st=input(\"Enter any string : \")\n",
        "def strfor():\n",
        "  if((len(st)>=2) and (st[:2]==\"Is\")):\n",
        "    return(st)\n",
        "  else:\n",
        "    return(\"Is\"+st)\n",
        "print(\"Formatted string is : \", strfor())"
      ],
      "execution_count": null,
      "outputs": [
        {
          "output_type": "stream",
          "text": [
            "Enter any string : syam\n",
            "Formatted string is :  Issyam\n"
          ],
          "name": "stdout"
        }
      ]
    },
    {
      "cell_type": "markdown",
      "metadata": {
        "id": "iGLnDAxiAXjD"
      },
      "source": [
        "###20. Write a Python program to get a string which is n (non-negative integer) copies of a given string."
      ]
    },
    {
      "cell_type": "code",
      "metadata": {
        "id": "I80YkpRDoFxQ",
        "colab": {
          "base_uri": "https://localhost:8080/",
          "height": 51
        },
        "outputId": "58074708-67b6-43d3-f488-4bc73301db69"
      },
      "source": [
        "def strcopy(str, n):\n",
        "  result=\"\"\n",
        "  for i in range(n):\n",
        "    result=result+str\n",
        "  return result\n",
        "\n",
        "print(strcopy(\"Syam \",5))\n",
        "print(strcopy(\"Vamsi \",4))"
      ],
      "execution_count": null,
      "outputs": [
        {
          "output_type": "stream",
          "text": [
            "Syam Syam Syam Syam Syam \n",
            "Vamsi Vamsi Vamsi Vamsi \n"
          ],
          "name": "stdout"
        }
      ]
    },
    {
      "cell_type": "markdown",
      "metadata": {
        "id": "B7P5ZtB-oF-N"
      },
      "source": [
        "###21. Write a Python program to find whether a given number (accept from the user) is even or odd, print out an appropriate message to the user. \n"
      ]
    },
    {
      "cell_type": "code",
      "metadata": {
        "id": "Bp8g2a_LoGLn",
        "colab": {
          "base_uri": "https://localhost:8080/",
          "height": 51
        },
        "outputId": "bbd68e59-4c84-4483-cd01-3628efc3ce56"
      },
      "source": [
        "n=int(input(\"Enter the number to be checked : \"))\n",
        "\n",
        "def evod(n):\n",
        "    if (n>0 and n%2==0):\n",
        "      return(\"Even\") \n",
        "    else:\n",
        "      return(\"Odd\")\n",
        "\n",
        "print(\"The given number is : \", evod(n))"
      ],
      "execution_count": null,
      "outputs": [
        {
          "output_type": "stream",
          "text": [
            "Enter the number to be checked : 58\n",
            "The given number is :  Even\n"
          ],
          "name": "stdout"
        }
      ]
    },
    {
      "cell_type": "markdown",
      "metadata": {
        "id": "IhRmVZKooGeU"
      },
      "source": [
        "###22. Write a Python program to count the number 4 in a given list."
      ]
    },
    {
      "cell_type": "code",
      "metadata": {
        "id": "tg9TPheZoGtZ",
        "colab": {
          "base_uri": "https://localhost:8080/",
          "height": 51
        },
        "outputId": "72124a3a-ec7e-419e-d295-b87e49ec3158"
      },
      "source": [
        "num=input(\"Enter the list of numbers : \")\n",
        "n=num.split(\",\")\n",
        "def conum(n):\n",
        "  i=0\n",
        "  c=0\n",
        "  for i in range(len(n)):\n",
        "    if int(n[i])==4:\n",
        "      c=c+1\n",
        "  print(\"The count of 4's in the list is \",c)\n",
        "\n",
        "conum(n)"
      ],
      "execution_count": null,
      "outputs": [
        {
          "output_type": "stream",
          "text": [
            "Enter the list of numbers : 1,8,4,3,2,4,0,4,9,2,4,4,7,9,2\n",
            "The count of 4's in the list is  5\n"
          ],
          "name": "stdout"
        }
      ]
    },
    {
      "cell_type": "markdown",
      "metadata": {
        "id": "sc3Ac65UPuXi"
      },
      "source": [
        "###23. Write a Python program to get the n (non-negative integer) copies of the first 2 characters of a given string. Return the n copies of the whole string if the length is less than 2."
      ]
    },
    {
      "cell_type": "code",
      "metadata": {
        "id": "bUkULt24P7-K",
        "colab": {
          "base_uri": "https://localhost:8080/",
          "height": 51
        },
        "outputId": "264d7fa2-74e2-4f09-beff-72f19285ef17"
      },
      "source": [
        "def ncopy(str,n):\n",
        "  if (len(str)<2):\n",
        "    return (n*str)\n",
        "  else:\n",
        "    return (n*str[:2])\n",
        "print(ncopy(\"Sv\", 8))\n",
        "print(ncopy(\"SL\", 3))"
      ],
      "execution_count": null,
      "outputs": [
        {
          "output_type": "stream",
          "text": [
            "SvSvSvSvSvSvSvSv\n",
            "SLSLSL\n"
          ],
          "name": "stdout"
        }
      ]
    },
    {
      "cell_type": "markdown",
      "metadata": {
        "id": "3hoOHf8poJfG"
      },
      "source": [
        "###24. Write a Python program to test whether a passed letter is a vowel or not."
      ]
    },
    {
      "cell_type": "code",
      "metadata": {
        "id": "Z2aR_dS6P8oS",
        "colab": {
          "base_uri": "https://localhost:8080/",
          "height": 51
        },
        "outputId": "d696c9ba-9696-49d1-d22a-486958a7c4d5"
      },
      "source": [
        "#Simple\n",
        "char=input(\"Input a letter : \")\n",
        "def isvow(char):\n",
        "  vow='aeiou'\n",
        "  return char in vow\n",
        "print(isvow(char))\n",
        "\n",
        "\n",
        "##Complex\n",
        "let=input(\"Input a letter : \")\n",
        "vo=[\"A\",\"E\",\"I\",\"O\",\"U\",\"a\",\"e\",\"i\",\"o\",\"u\"]\n",
        "def VoCo(let):\n",
        "  if(len(let)<2) and (len(let)!=0):\n",
        "    for i in vo:\n",
        "      if(let==i):\n",
        "        return(\"Vowel\")\n",
        "      else:\n",
        "        return(\"Consonant\")\n",
        "  else:\n",
        "    return(\"Word or Invalid\")\n",
        "print(\"Given input is \",VoCo(let))"
      ],
      "execution_count": null,
      "outputs": [
        {
          "output_type": "stream",
          "text": [
            "Input a letter : s\n",
            "False\n"
          ],
          "name": "stdout"
        }
      ]
    },
    {
      "cell_type": "markdown",
      "metadata": {
        "id": "zefgmQq3PtbD"
      },
      "source": [
        "###25. Write a Python program to check whether a specified value is contained in a group of values. \n",
        "Test Data :\n",
        "3 -> [1, 5, 8, 3] : True\n",
        "-1 -> [1, 5, 8, 3] : False"
      ]
    },
    {
      "cell_type": "code",
      "metadata": {
        "id": "M6CkUPYol4Va",
        "colab": {
          "base_uri": "https://localhost:8080/",
          "height": 34
        },
        "outputId": "6851c386-2365-41cd-9b78-40204f1ad572"
      },
      "source": [
        "groupofval= [5, 8, 4, 3] \n",
        "def doescont(n):\n",
        "  return n in groupofval\n",
        "\n",
        "print(doescont(3))"
      ],
      "execution_count": null,
      "outputs": [
        {
          "output_type": "stream",
          "text": [
            "True\n"
          ],
          "name": "stdout"
        }
      ]
    },
    {
      "cell_type": "markdown",
      "metadata": {
        "id": "m-qLhbvacHCV"
      },
      "source": [
        "### 26. How many times a number is repeated in the given list.\n",
        "a=[1,2,5,8,2,9,4,5,7,2,1,5,6,9]"
      ]
    },
    {
      "cell_type": "code",
      "metadata": {
        "id": "gDw-7H4YcHM4"
      },
      "source": [
        "a=[1,2,5,8,2,9,4,5,7,2,1,5,6,9]\n",
        "b=[]\n",
        "for i in a:\n",
        "  if (a.count(i)>1):\n",
        "    print(str(i)+\" is repeated\"+str(a.count(i)))\n",
        "\n",
        "#b=b.append(i)"
      ],
      "execution_count": null,
      "outputs": []
    },
    {
      "cell_type": "markdown",
      "metadata": {
        "id": "jNKu4uV7cHZs"
      },
      "source": [
        ""
      ]
    },
    {
      "cell_type": "code",
      "metadata": {
        "id": "jMShbsptcHlM"
      },
      "source": [
        ""
      ],
      "execution_count": null,
      "outputs": []
    },
    {
      "cell_type": "markdown",
      "metadata": {
        "id": "QGPzo88UcHxY"
      },
      "source": [
        ""
      ]
    },
    {
      "cell_type": "code",
      "metadata": {
        "id": "6EyI263wcH9w"
      },
      "source": [
        ""
      ],
      "execution_count": null,
      "outputs": []
    },
    {
      "cell_type": "markdown",
      "metadata": {
        "id": "B2-x1VX1cIJ2"
      },
      "source": [
        ""
      ]
    },
    {
      "cell_type": "code",
      "metadata": {
        "id": "0IMA4PmNcIVl"
      },
      "source": [
        ""
      ],
      "execution_count": null,
      "outputs": []
    },
    {
      "cell_type": "markdown",
      "metadata": {
        "id": "H3x_AtiAcIhL"
      },
      "source": [
        ""
      ]
    },
    {
      "cell_type": "code",
      "metadata": {
        "id": "zbvlvtcFcIre"
      },
      "source": [
        ""
      ],
      "execution_count": null,
      "outputs": []
    },
    {
      "cell_type": "markdown",
      "metadata": {
        "id": "qLk8afKncI2d"
      },
      "source": [
        ""
      ]
    },
    {
      "cell_type": "code",
      "metadata": {
        "id": "e7CcQujxcJBb"
      },
      "source": [
        ""
      ],
      "execution_count": null,
      "outputs": []
    },
    {
      "cell_type": "markdown",
      "metadata": {
        "id": "2h0cIuYUcJOI"
      },
      "source": [
        ""
      ]
    },
    {
      "cell_type": "code",
      "metadata": {
        "id": "Fh8_-hEAcJd1"
      },
      "source": [
        ""
      ],
      "execution_count": null,
      "outputs": []
    },
    {
      "cell_type": "markdown",
      "metadata": {
        "id": "rEDh7-9fcJtc"
      },
      "source": [
        ""
      ]
    },
    {
      "cell_type": "code",
      "metadata": {
        "id": "mo5KoS8wcJ5k"
      },
      "source": [
        ""
      ],
      "execution_count": null,
      "outputs": []
    },
    {
      "cell_type": "markdown",
      "metadata": {
        "id": "YGM9wxEtcKFu"
      },
      "source": [
        ""
      ]
    },
    {
      "cell_type": "code",
      "metadata": {
        "id": "eKY2EyaMcKQ8"
      },
      "source": [
        ""
      ],
      "execution_count": null,
      "outputs": []
    },
    {
      "cell_type": "markdown",
      "metadata": {
        "id": "Heh4BDmfcKdO"
      },
      "source": [
        ""
      ]
    },
    {
      "cell_type": "code",
      "metadata": {
        "id": "iiuhSMBUcKpH"
      },
      "source": [
        ""
      ],
      "execution_count": null,
      "outputs": []
    },
    {
      "cell_type": "markdown",
      "metadata": {
        "id": "JdkTTRHvcK04"
      },
      "source": [
        ""
      ]
    },
    {
      "cell_type": "code",
      "metadata": {
        "id": "csKtg4IhcLDV"
      },
      "source": [
        ""
      ],
      "execution_count": null,
      "outputs": []
    },
    {
      "cell_type": "markdown",
      "metadata": {
        "id": "b3dpoXgScLOa"
      },
      "source": [
        ""
      ]
    },
    {
      "cell_type": "code",
      "metadata": {
        "id": "0syYt7WscLaE"
      },
      "source": [
        ""
      ],
      "execution_count": null,
      "outputs": []
    },
    {
      "cell_type": "markdown",
      "metadata": {
        "id": "fc8XBiV3cLmm"
      },
      "source": [
        ""
      ]
    },
    {
      "cell_type": "code",
      "metadata": {
        "id": "3fCAutYPcLxt"
      },
      "source": [
        ""
      ],
      "execution_count": null,
      "outputs": []
    },
    {
      "cell_type": "markdown",
      "metadata": {
        "id": "dgPCKpHecL9K"
      },
      "source": [
        ""
      ]
    },
    {
      "cell_type": "code",
      "metadata": {
        "id": "QbWRCqt9cMI7"
      },
      "source": [
        ""
      ],
      "execution_count": null,
      "outputs": []
    },
    {
      "cell_type": "markdown",
      "metadata": {
        "id": "QXhBrAUFcMTB"
      },
      "source": [
        ""
      ]
    },
    {
      "cell_type": "code",
      "metadata": {
        "id": "PkgiS2INcMdy"
      },
      "source": [
        ""
      ],
      "execution_count": null,
      "outputs": []
    },
    {
      "cell_type": "markdown",
      "metadata": {
        "id": "NepLtnqwcMog"
      },
      "source": [
        ""
      ]
    },
    {
      "cell_type": "code",
      "metadata": {
        "id": "vv9hjLnjcMz4"
      },
      "source": [
        ""
      ],
      "execution_count": null,
      "outputs": []
    },
    {
      "cell_type": "markdown",
      "metadata": {
        "id": "LOSo755ccNAa"
      },
      "source": [
        ""
      ]
    },
    {
      "cell_type": "code",
      "metadata": {
        "id": "1vXHPSrLcNNb"
      },
      "source": [
        ""
      ],
      "execution_count": null,
      "outputs": []
    },
    {
      "cell_type": "markdown",
      "metadata": {
        "id": "HdbI-qP-cNY2"
      },
      "source": [
        ""
      ]
    },
    {
      "cell_type": "code",
      "metadata": {
        "id": "HlUNuWYNcNjV"
      },
      "source": [
        ""
      ],
      "execution_count": null,
      "outputs": []
    },
    {
      "cell_type": "markdown",
      "metadata": {
        "id": "fqs3PD-mcNvE"
      },
      "source": [
        ""
      ]
    },
    {
      "cell_type": "code",
      "metadata": {
        "id": "7cSL5OALcN7V"
      },
      "source": [
        ""
      ],
      "execution_count": null,
      "outputs": []
    },
    {
      "cell_type": "markdown",
      "metadata": {
        "id": "VvmTvH_JcOIL"
      },
      "source": [
        ""
      ]
    },
    {
      "cell_type": "code",
      "metadata": {
        "id": "Q__ciXDrcOVs"
      },
      "source": [
        ""
      ],
      "execution_count": null,
      "outputs": []
    },
    {
      "cell_type": "markdown",
      "metadata": {
        "id": "Vlb6Trd0cOkp"
      },
      "source": [
        ""
      ]
    },
    {
      "cell_type": "code",
      "metadata": {
        "id": "25WBXU_zcOvz"
      },
      "source": [
        ""
      ],
      "execution_count": null,
      "outputs": []
    },
    {
      "cell_type": "markdown",
      "metadata": {
        "id": "atY8nIE7cO8L"
      },
      "source": [
        ""
      ]
    },
    {
      "cell_type": "code",
      "metadata": {
        "id": "2EJ3V96ccPIi"
      },
      "source": [
        ""
      ],
      "execution_count": null,
      "outputs": []
    },
    {
      "cell_type": "markdown",
      "metadata": {
        "id": "w9QyBXE_cPUR"
      },
      "source": [
        ""
      ]
    },
    {
      "cell_type": "code",
      "metadata": {
        "id": "oJJ6l4sicPeb"
      },
      "source": [
        ""
      ],
      "execution_count": null,
      "outputs": []
    },
    {
      "cell_type": "markdown",
      "metadata": {
        "id": "fCHtTgJFcPqs"
      },
      "source": [
        ""
      ]
    },
    {
      "cell_type": "code",
      "metadata": {
        "id": "TOjMy28CcP1n"
      },
      "source": [
        ""
      ],
      "execution_count": null,
      "outputs": []
    },
    {
      "cell_type": "markdown",
      "metadata": {
        "id": "JyodTyJIcQBJ"
      },
      "source": [
        ""
      ]
    },
    {
      "cell_type": "code",
      "metadata": {
        "id": "AJNif04EcQLh"
      },
      "source": [
        ""
      ],
      "execution_count": null,
      "outputs": []
    },
    {
      "cell_type": "markdown",
      "metadata": {
        "id": "1zB6qpvtcQXv"
      },
      "source": [
        ""
      ]
    },
    {
      "cell_type": "code",
      "metadata": {
        "id": "8xbNyARYcQi8"
      },
      "source": [
        ""
      ],
      "execution_count": null,
      "outputs": []
    },
    {
      "cell_type": "markdown",
      "metadata": {
        "id": "POJe_5LlcQxq"
      },
      "source": [
        ""
      ]
    },
    {
      "cell_type": "code",
      "metadata": {
        "id": "R_BltivVcQ8F"
      },
      "source": [
        ""
      ],
      "execution_count": null,
      "outputs": []
    },
    {
      "cell_type": "markdown",
      "metadata": {
        "id": "dZb6SNghcRH7"
      },
      "source": [
        ""
      ]
    },
    {
      "cell_type": "code",
      "metadata": {
        "id": "VQBw-WbYcRTd"
      },
      "source": [
        ""
      ],
      "execution_count": null,
      "outputs": []
    },
    {
      "cell_type": "markdown",
      "metadata": {
        "id": "Lni1f3FrcRgv"
      },
      "source": [
        ""
      ]
    },
    {
      "cell_type": "code",
      "metadata": {
        "id": "tK1Lgz_LcRsC"
      },
      "source": [
        ""
      ],
      "execution_count": null,
      "outputs": []
    },
    {
      "cell_type": "markdown",
      "metadata": {
        "id": "nrRkU3NmcR3i"
      },
      "source": [
        ""
      ]
    },
    {
      "cell_type": "code",
      "metadata": {
        "id": "kN7iGr_3cSDY"
      },
      "source": [
        ""
      ],
      "execution_count": null,
      "outputs": []
    },
    {
      "cell_type": "markdown",
      "metadata": {
        "id": "ratdCHulcSOj"
      },
      "source": [
        ""
      ]
    },
    {
      "cell_type": "code",
      "metadata": {
        "id": "dVGEJ8szcSZT"
      },
      "source": [
        ""
      ],
      "execution_count": null,
      "outputs": []
    },
    {
      "cell_type": "markdown",
      "metadata": {
        "id": "-WTvAeJFcSkc"
      },
      "source": [
        ""
      ]
    },
    {
      "cell_type": "code",
      "metadata": {
        "id": "gB1rS_ffcSwK"
      },
      "source": [
        ""
      ],
      "execution_count": null,
      "outputs": []
    },
    {
      "cell_type": "code",
      "metadata": {
        "id": "BVrfkTCTbhEy"
      },
      "source": [
        ""
      ],
      "execution_count": null,
      "outputs": []
    }
  ]
}