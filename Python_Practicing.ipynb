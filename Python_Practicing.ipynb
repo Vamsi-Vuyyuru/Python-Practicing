{
  "nbformat": 4,
  "nbformat_minor": 0,
  "metadata": {
    "colab": {
      "name": "Untitled0.ipynb",
      "provenance": [],
      "collapsed_sections": [],
      "authorship_tag": "ABX9TyPG3m4YKfuOB6rUidHQoX7T",
      "include_colab_link": true
    },
    "kernelspec": {
      "name": "python3",
      "display_name": "Python 3"
    }
  },
  "cells": [
    {
      "cell_type": "markdown",
      "metadata": {
        "id": "view-in-github",
        "colab_type": "text"
      },
      "source": [
        "<a href=\"https://colab.research.google.com/github/Vamsi-Vuyyuru/Python-Practicing/blob/master/Python_Practicing.ipynb\" target=\"_parent\"><img src=\"https://colab.research.google.com/assets/colab-badge.svg\" alt=\"Open In Colab\"/></a>"
      ]
    },
    {
      "cell_type": "code",
      "metadata": {
        "id": "IBJzMaKD8Yud",
        "colab_type": "code",
        "colab": {}
      },
      "source": [
        ""
      ],
      "execution_count": 0,
      "outputs": []
    },
    {
      "cell_type": "markdown",
      "metadata": {
        "id": "Vp-Cc8F1Z1lf",
        "colab_type": "text"
      },
      "source": [
        "## Basic Python Practice Exercises\n",
        "\n",
        "\n"
      ]
    },
    {
      "cell_type": "markdown",
      "metadata": {
        "id": "KlsM8wdKXZ1J",
        "colab_type": "text"
      },
      "source": [
        "# 1. Write a Python program to print the following string in a specific format.\n",
        "Sample String : \"Twinkle, twinkle, little star, How I wonder what you are! Up above the world so high, Like a diamond in the sky. Twinkle, twinkle, little star, How I wonder what you are\" \n",
        "\n",
        "Output :\n",
        "Twinkle, twinkle, little star,\n",
        "\tHow I wonder what you are! \n",
        "\t\tUp above the world so high,   \t\t\n",
        "\t\tLike a diamond in the sky. \n",
        "Twinkle, twinkle, little star, \n",
        "\tHow I wonder what you are\n"
      ]
    },
    {
      "cell_type": "code",
      "metadata": {
        "id": "ZdEe_M6lXeXf",
        "colab_type": "code",
        "outputId": "3ebde93e-7b9f-4df7-ec6a-7e406497b6a9",
        "colab": {
          "base_uri": "https://localhost:8080/",
          "height": 121
        }
      },
      "source": [
        "print(\"Twinkle, twinkle, little star,\" \"\\n\\tHow I wonder what you are!,\" \"\\n\\t\\tUp above the world so high,\" \"\\n\\t\\tLike a diamond in the sky.\" \"\\nTwinkle, twinkle, little star\" \"\\n\\tHow I wonder what you are\")"
      ],
      "execution_count": 0,
      "outputs": [
        {
          "output_type": "stream",
          "text": [
            "Twinkle, twinkle, little star,\n",
            "\tHow I wonder what you are!,\n",
            "\t\tUp above the world so high,\n",
            "\t\tLike a diamond in the sky.\n",
            "Twinkle, twinkle, little star\n",
            "\tHow I wonder what you are\n"
          ],
          "name": "stdout"
        }
      ]
    },
    {
      "cell_type": "code",
      "metadata": {
        "id": "6AP9CVb4Yqbl",
        "colab_type": "code",
        "outputId": "99fc5325-c97e-454d-886d-a92cede4811d",
        "colab": {
          "base_uri": "https://localhost:8080/",
          "height": 131
        }
      },
      "source": [
        "type python --version"
      ],
      "execution_count": 0,
      "outputs": [
        {
          "output_type": "error",
          "ename": "SyntaxError",
          "evalue": "ignored",
          "traceback": [
            "\u001b[0;36m  File \u001b[0;32m\"<ipython-input-5-d15da1478b57>\"\u001b[0;36m, line \u001b[0;32m1\u001b[0m\n\u001b[0;31m    type python --version\u001b[0m\n\u001b[0m              ^\u001b[0m\n\u001b[0;31mSyntaxError\u001b[0m\u001b[0;31m:\u001b[0m invalid syntax\n"
          ]
        }
      ]
    },
    {
      "cell_type": "markdown",
      "metadata": {
        "id": "4rIqcx0WZgs6",
        "colab_type": "text"
      },
      "source": [
        "# 2. Write a Python program to get the Python version you are using."
      ]
    },
    {
      "cell_type": "markdown",
      "metadata": {
        "id": "WKO2D_zQaswf",
        "colab_type": "text"
      },
      "source": [
        "A string containing the version number of the Python interpreter plus additional information on the build number and compiler used. This string is displayed when the interactive interpreter is started."
      ]
    },
    {
      "cell_type": "code",
      "metadata": {
        "id": "BMnDnzZQZiN_",
        "colab_type": "code",
        "outputId": "f88bb121-7a70-426d-e62a-b1ae52802814",
        "colab": {
          "base_uri": "https://localhost:8080/",
          "height": 87
        }
      },
      "source": [
        "import sys\n",
        "print (\"Python Version: \", sys.version)\n",
        "print (\"Python Version Information:\\n\", sys.version_info)"
      ],
      "execution_count": 0,
      "outputs": [
        {
          "output_type": "stream",
          "text": [
            "Python Version:  3.6.9 (default, Nov  7 2019, 10:44:02) \n",
            "[GCC 8.3.0]\n",
            "Python Version Information:\n",
            " sys.version_info(major=3, minor=6, micro=9, releaselevel='final', serial=0)\n"
          ],
          "name": "stdout"
        }
      ]
    },
    {
      "cell_type": "markdown",
      "metadata": {
        "id": "X2iRBgHhaj-z",
        "colab_type": "text"
      },
      "source": [
        "# 3. Write a Python program to display the current date and time.\n",
        "Sample Output :\n",
        "Current date and time :\n",
        "2014-07-05 14:34:14"
      ]
    },
    {
      "cell_type": "code",
      "metadata": {
        "id": "cfRcMLxcbc15",
        "colab_type": "code",
        "outputId": "54dd5dc9-f4d5-456a-ce0f-dcb1abc79983",
        "colab": {
          "base_uri": "https://localhost:8080/",
          "height": 52
        }
      },
      "source": [
        "import datetime\n",
        "dt=datetime.datetime.now()\n",
        "print (\"Default Current Date and time:\", dt)\n",
        "print (\"Formatted Date and time:\", (dt.strftime(\"%d-%m-%y %H:%M:%S\")))\n"
      ],
      "execution_count": 0,
      "outputs": [
        {
          "output_type": "stream",
          "text": [
            "Default Current Date and time: 2020-03-22 13:44:51.225475\n",
            "Formatted Date and time: 22-03-20 13:44:51\n"
          ],
          "name": "stdout"
        }
      ]
    },
    {
      "cell_type": "markdown",
      "metadata": {
        "id": "RVgo7PKBfWbl",
        "colab_type": "text"
      },
      "source": [
        "## 4. Write a Python program which accepts the radius of a circle from the user and compute the area."
      ]
    },
    {
      "cell_type": "code",
      "metadata": {
        "id": "d1UvikKabex2",
        "colab_type": "code",
        "outputId": "e912a3ab-7c30-4585-a5be-92a838a1fbbf",
        "colab": {
          "base_uri": "https://localhost:8080/",
          "height": 52
        }
      },
      "source": [
        "from math import pi\n",
        "radius=float(input(\"Please input radius of the circle \"))\n",
        "print(\"Area of the Circle with radius \"+ str(radius) +\" is:\", str(pi*(radius**2)))"
      ],
      "execution_count": 29,
      "outputs": [
        {
          "output_type": "stream",
          "text": [
            "Please input radius of the circle 2.3\n",
            "Area of the Circle with radius 2.3 is: 16.619025137490002\n"
          ],
          "name": "stdout"
        }
      ]
    },
    {
      "cell_type": "markdown",
      "metadata": {
        "id": "Oh6K48wSbfjc",
        "colab_type": "text"
      },
      "source": [
        ""
      ]
    },
    {
      "cell_type": "code",
      "metadata": {
        "id": "C8ufbYSYbf2-",
        "colab_type": "code",
        "colab": {}
      },
      "source": [
        ""
      ],
      "execution_count": 0,
      "outputs": []
    },
    {
      "cell_type": "markdown",
      "metadata": {
        "id": "_2WbmI_EbgDi",
        "colab_type": "text"
      },
      "source": [
        ""
      ]
    },
    {
      "cell_type": "code",
      "metadata": {
        "id": "s67j8kVgbgQP",
        "colab_type": "code",
        "colab": {}
      },
      "source": [
        ""
      ],
      "execution_count": 0,
      "outputs": []
    },
    {
      "cell_type": "markdown",
      "metadata": {
        "id": "Md2gdGfJbgbg",
        "colab_type": "text"
      },
      "source": [
        ""
      ]
    },
    {
      "cell_type": "code",
      "metadata": {
        "id": "YjMjsfRPbgnR",
        "colab_type": "code",
        "colab": {}
      },
      "source": [
        ""
      ],
      "execution_count": 0,
      "outputs": []
    },
    {
      "cell_type": "markdown",
      "metadata": {
        "id": "Pwj-7nh4bg0B",
        "colab_type": "text"
      },
      "source": [
        ""
      ]
    },
    {
      "cell_type": "code",
      "metadata": {
        "id": "D8__QvGEbhBe",
        "colab_type": "code",
        "colab": {}
      },
      "source": [
        ""
      ],
      "execution_count": 0,
      "outputs": []
    },
    {
      "cell_type": "markdown",
      "metadata": {
        "id": "DfaLEObcbhYg",
        "colab_type": "text"
      },
      "source": [
        ""
      ]
    },
    {
      "cell_type": "code",
      "metadata": {
        "id": "XwCB62N9bhiw",
        "colab_type": "code",
        "colab": {}
      },
      "source": [
        ""
      ],
      "execution_count": 0,
      "outputs": []
    },
    {
      "cell_type": "markdown",
      "metadata": {
        "id": "_ycy9Wyrbh1z",
        "colab_type": "text"
      },
      "source": [
        ""
      ]
    },
    {
      "cell_type": "code",
      "metadata": {
        "id": "D5t1qTpqbh_R",
        "colab_type": "code",
        "colab": {}
      },
      "source": [
        ""
      ],
      "execution_count": 0,
      "outputs": []
    }
  ]
}